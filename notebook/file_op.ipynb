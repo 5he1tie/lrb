{
 "cells": [
  {
   "cell_type": "code",
   "execution_count": 12,
   "metadata": {},
   "outputs": [],
   "source": [
    "import ujson as json\n",
    "import os\n",
    "from glob import glob"
   ]
  },
  {
   "cell_type": "code",
   "execution_count": 13,
   "metadata": {},
   "outputs": [],
   "source": [
    "sushi_root = '/data/zhenyus/sushi_data'"
   ]
  },
  {
   "cell_type": "code",
   "execution_count": null,
   "metadata": {},
   "outputs": [],
   "source": []
  },
  {
   "cell_type": "code",
   "execution_count": 16,
   "metadata": {},
   "outputs": [
    {
     "name": "stdout",
     "output_type": "stream",
     "text": [
      "{'object_hit_rate': 0.0, 'byte_hit_rate': 0.0064239967, 'algorithm': 'LFU', 'trace_id': 'memcachier_26', 'cache_capacity': 29419, 'n_warmup': 0, 'n_early_stop': 100000, 'if_uni_size': False}\n",
      "{'object_hit_rate': 0.0, 'byte_hit_rate': 0.0294669254, 'algorithm': 'LFU', 'trace_id': 'memcachier_29', 'cache_capacity': 14163, 'n_warmup': 0, 'n_early_stop': 100000, 'if_uni_size': False}\n",
      "{'object_hit_rate': 0.0, 'byte_hit_rate': 0.0064239967, 'algorithm': 'LFU', 'trace_id': 'memcachier_26', 'cache_capacity': 29419, 'n_warmup': 0, 'n_early_stop': 100000, 'if_uni_size': False}\n",
      "{'object_hit_rate': 0.0, 'byte_hit_rate': 0.0064239967, 'algorithm': 'LFU', 'trace_id': 'memcachier_26', 'cache_capacity': 29419, 'n_warmup': 0, 'n_early_stop': 100000, 'if_uni_size': False}\n"
     ]
    }
   ],
   "source": [
    "files = glob(f'{sushi_root}/reports/*.json')\n",
    "for file in files:\n",
    "    try:\n",
    "        with open(file) as f:\n",
    "            record = json.load(f)\n",
    "    except Exception as e:\n",
    "        os.remove(file)\n",
    "#     print(record['cache_capacity'])\n",
    "#     if record['trace_id'] == 'memcachier1' and record['cache_capacity'] < 1000:\n",
    "#         print(record)\n",
    "#         "
   ]
  },
  {
   "cell_type": "code",
   "execution_count": 5,
   "metadata": {},
   "outputs": [
    {
     "data": {
      "text/plain": [
       "{'object_hit_rate': 0.5782,\n",
       " 'byte_hit_rate': 0.5782,\n",
       " 'algorithm': 'ClockPro',\n",
       " 'trace_id': 'memcachier1',\n",
       " 'cache_capacity': 3000,\n",
       " 'n_warmup': 100000,\n",
       " 'n_early_stop': 1000000,\n",
       " 'if_uni_size': True}"
      ]
     },
     "execution_count": 5,
     "metadata": {},
     "output_type": "execute_result"
    }
   ],
   "source": [
    "record"
   ]
  },
  {
   "cell_type": "code",
   "execution_count": null,
   "metadata": {},
   "outputs": [],
   "source": []
  }
 ],
 "metadata": {
  "kernelspec": {
   "display_name": "sushi",
   "language": "python",
   "name": "sushi"
  },
  "language_info": {
   "codemirror_mode": {
    "name": "ipython",
    "version": 3
   },
   "file_extension": ".py",
   "mimetype": "text/x-python",
   "name": "python",
   "nbconvert_exporter": "python",
   "pygments_lexer": "ipython3",
   "version": "3.6.5"
  }
 },
 "nbformat": 4,
 "nbformat_minor": 2
}
